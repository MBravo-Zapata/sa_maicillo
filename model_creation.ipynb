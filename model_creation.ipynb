{
 "cells": [
  {
   "cell_type": "markdown",
   "id": "cdf74d2f",
   "metadata": {},
   "source": [
    "# Analysis of the influence of geomechanical parameters and geometry on slope slope stability in granitic residual soils"
   ]
  },
  {
   "cell_type": "markdown",
   "id": "f5b76801",
   "metadata": {},
   "source": [
    "Notebook for model creation and calculation automatization"
   ]
  },
  {
   "cell_type": "markdown",
   "id": "8cc2a6ce",
   "metadata": {},
   "source": [
    "## 1.- Import dependencies"
   ]
  },
  {
   "cell_type": "code",
   "execution_count": 1,
   "id": "b54080c4",
   "metadata": {},
   "outputs": [],
   "source": [
    "import math\n",
    "from numpy import arange, array, deg2rad, tan\n",
    "from numpy import random\n",
    "from numpy.lib.function_base import append\n",
    "import xml.etree.ElementTree as ET"
   ]
  },
  {
   "cell_type": "markdown",
   "id": "d3ba1b87",
   "metadata": {},
   "source": [
    "## 2.- Definition of variables and Montecarlo simulation"
   ]
  },
  {
   "cell_type": "code",
   "execution_count": 6,
   "id": "ef762418",
   "metadata": {},
   "outputs": [],
   "source": [
    "# number of simulations\n",
    "n = 10\n",
    "        \n",
    "# Montecarlo simulation - (min, máx, number of simulations)\n",
    "# Generates the set of variables using uniform probaility.\n",
    "\n",
    "# Slope geometry\n",
    "# Slope height\n",
    "h = random.uniform(2, 30, n)\n",
    "h = h.tolist()\n",
    "\n",
    "# Slope angle\n",
    "b = random.uniform(26, 80, n) \n",
    "b = b.tolist()\n",
    "\n",
    "# Strenght parameters\n",
    "# Cohesion\n",
    "c = random.uniform(0, 5, n)  \n",
    "c = c.tolist()\n",
    "\n",
    "# Friction angle\n",
    "phi = random.uniform(29.5, 38, n)\n",
    "phi = phi.tolist()\n",
    "\n",
    "# Unit weight\n",
    "gamma = random.uniform(17, 21, n)\n",
    "gamma = gamma.tolist()\n",
    "\n",
    "\n",
    "file_list = []  #list to save file numbers (example: model_0)\n",
    "file_results = [] #list to save file results numbers (example: model_results_0)"
   ]
  },
  {
   "cell_type": "markdown",
   "id": "fc656102",
   "metadata": {},
   "source": [
    "## 3.- Template configuration"
   ]
  },
  {
   "cell_type": "code",
   "execution_count": null,
   "id": "7c61a898",
   "metadata": {},
   "outputs": [],
   "source": [
    "id_material  = 101   #id material - in this case : weathered granite soils\n",
    "id_node_h = 3   #id node that changes the height\n",
    "id_node_beta = 4 #id node that changes the angle of slope"
   ]
  },
  {
   "cell_type": "markdown",
   "id": "d36bc8c6",
   "metadata": {},
   "source": [
    "## 4.- Model creation"
   ]
  },
  {
   "cell_type": "markdown",
   "id": "b36c9e46",
   "metadata": {},
   "source": [
    "Changes the values of the parameters defined using Montecarlo's simulation and generate the *.g2x* files"
   ]
  },
  {
   "cell_type": "code",
   "execution_count": 7,
   "id": "8cb7fc8b",
   "metadata": {},
   "outputs": [],
   "source": [
    "# Read OptumG2 template file file\n",
    "tree = ET.parse('template_SRF_AS.g2x')  #name of .g2x file\n",
    "# Obtain the root element\n",
    "root = tree.getroot()"
   ]
  },
  {
   "cell_type": "code",
   "execution_count": 8,
   "id": "a52b547a",
   "metadata": {},
   "outputs": [],
   "source": [
    "for i in range(n):\n",
    "    \n",
    "    b_radians = deg2rad(b[i])  # slope angle degree to radians\n",
    "    coord_x = (h[i]/tan(b_radians)) #new x coord\n",
    "    \n",
    "    list_coords_3 = [80, h[i], 0] #new coords node 3 - [x coord template, new y coord, z coord]\n",
    "    list_coords_4 = [coord_x, h[i], 0] #new coords node 4 - [new x coord, new y coord, z coord]\n",
    "\n",
    "    list_coords_str3 = [str(coordenada) for coordenada in list_coords_3] #coords to string\n",
    "    list_coords_str4 = [str(coordenada) for coordenada in list_coords_4] #coords to string\n",
    "\n",
    "    coordenadas_str3 = ','.join(list_coords_str3) \n",
    "    coordenadas_str4 = ','.join(list_coords_str4)\n",
    "    \n",
    "    # Change template coords\n",
    "    \n",
    "    nodo3 = root.findall(\"./Stages/Stage//Data/Nodes/Node[@ID='{}']\".format(id_node_h))[0]\n",
    "    nodo3.text = coordenadas_str3\n",
    "\n",
    "    nodo4 = root.findall(\"./Stages/Stage//Data/Nodes/Node[@ID='{}']\".format(id_node_beta))[0]\n",
    "    nodo4.text = coordenadas_str4\n",
    "    \n",
    "    # Change template parameters\n",
    "    \n",
    "    cohesion = c[i]\n",
    "    cohesion_new  = root.findall(\".//*Material[@ID='{}']/Parameters/c\".format(id_material))[0]\n",
    "    cohesion_new.text = str(cohesion)\n",
    "    \n",
    "    friction_angle = str(phi[i])\n",
    "    friction_angle_new = root.findall(\".//*Material[@ID='{}']/Parameters/Phi\".format(id_material))[0]\n",
    "    friction_angle_new.text = friction_angle\n",
    "       \n",
    "    specific_gravity = str(gamma[i])\n",
    "    specific_gravity_new = root.findall(\".//*Material[@ID='{}']/Parameters/GammaDry\".format(id_material))[0]\n",
    "    specific_gravity_new.text = specific_gravity\n",
    "    \n",
    "    #Create new files and files results\n",
    "    \n",
    "    model = 'model_' + str(i) + '.g2x'\n",
    "    result = 'model_' + str(i) + '.results.g2x'\n",
    "    \n",
    "    tree.write(model)\n",
    "    \n",
    "    #Save files and files results numbers\n",
    "    \n",
    "    file_list.append(model)\n",
    "    file_results.append(result)\n",
    "    "
   ]
  },
  {
   "cell_type": "markdown",
   "id": "18b3cd4b",
   "metadata": {},
   "source": [
    "## 5.- Run vreated OptumG2 files"
   ]
  },
  {
   "cell_type": "code",
   "execution_count": null,
   "id": "6b937820",
   "metadata": {
    "collapsed": true
   },
   "outputs": [],
   "source": [
    "prog = 'OptumG2Cmd '\n",
    "\n",
    "for file in file_list:\n",
    "    command = prog + file\n",
    "    display(command)\n",
    "    !$command"
   ]
  },
  {
   "cell_type": "markdown",
   "id": "484b71cd",
   "metadata": {},
   "source": [
    "## 6.- Save results"
   ]
  },
  {
   "cell_type": "code",
   "execution_count": 6,
   "id": "074bd94c",
   "metadata": {},
   "outputs": [],
   "source": [
    "SRF_results = []\n",
    "\n",
    "for results in file_results:\n",
    "    tree = ET.parse(results)\n",
    "    root = tree.getroot()\n",
    "    \n",
    "    for Result in root.findall(\".//Result[2]\"):\n",
    "        srf = Result.text\n",
    "        srf_value = eval(srf)     \n",
    "        SRF_results.append(srf_value) \n",
    "        \n",
    "#display(SRF_results)"
   ]
  },
  {
   "cell_type": "code",
   "execution_count": 7,
   "id": "40f2c3a5",
   "metadata": {},
   "outputs": [],
   "source": [
    "#export results in .txt file\n",
    "output_LB = \"Output_LB.txt\" #name of output1 file\n",
    "output_UB = \"Output_UB.txt\" #name of outpu2 file\n",
    "entrada = \"Input.txt\"       #name of input file\n",
    "\n",
    "#Export input data \n",
    "with open(entrada, 'a+') as f:\n",
    "    f.write('\\n')\n",
    "with open(output_LB, 'a+') as f:\n",
    "    f.write('\\n')\n",
    "with open(output_UB, 'a+') as f:\n",
    "    f.write('\\n')\n",
    "\n",
    "for i in range(n):\n",
    "    with open(entrada, 'a+') as f:\n",
    "        f.write(str(h[i]) + ' ' + \n",
    "                str(b[i]) + ' ' + \n",
    "                str(c[i]) + ' ' + \n",
    "                str(phi[i]) + ' ' +  \n",
    "                str(gamma_dry[i]) + '\\n')\n",
    "\n",
    "\n",
    "#Export output data\n",
    "for i in range(len(SRF_results)):\n",
    "    if i%2 == 0:\n",
    "        with open(output_LB, 'a+') as f:\n",
    "            f.write(str(SRF_results[i]) + '\\n')\n",
    "    elif i%2 != 0:\n",
    "        with open(output_UB, 'a+') as f:\n",
    "            f.write(str(SRF_results[i]) + '\\n')        \n",
    "    else:\n",
    "        print('error')"
   ]
  }
 ],
 "metadata": {
  "kernelspec": {
   "display_name": "Python 3 (ipykernel)",
   "language": "python",
   "name": "python3"
  },
  "language_info": {
   "codemirror_mode": {
    "name": "ipython",
    "version": 3
   },
   "file_extension": ".py",
   "mimetype": "text/x-python",
   "name": "python",
   "nbconvert_exporter": "python",
   "pygments_lexer": "ipython3",
   "version": "3.8.12"
  }
 },
 "nbformat": 4,
 "nbformat_minor": 5
}
